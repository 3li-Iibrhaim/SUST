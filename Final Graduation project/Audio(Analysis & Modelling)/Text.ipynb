{
 "cells": [
  {
   "cell_type": "code",
   "execution_count": 2,
   "id": "ae07ff7d",
   "metadata": {},
   "outputs": [],
   "source": [
    "import pandas as pd\n",
    "import matplotlib.pyplot as plt\n",
    "import seaborn as sns\n",
    "import numpy as np"
   ]
  },
  {
   "cell_type": "markdown",
   "id": "65826a6e",
   "metadata": {},
   "source": [
    "## GET DATA READY"
   ]
  },
  {
   "cell_type": "code",
   "execution_count": 3,
   "id": "85a3e0e9",
   "metadata": {},
   "outputs": [],
   "source": [
    "bug = pd.read_csv('../Data(Sound & Text)/Text/bug-pit.txt')"
   ]
  },
  {
   "cell_type": "code",
   "execution_count": 5,
   "id": "42befb1e",
   "metadata": {},
   "outputs": [
    {
     "data": {
      "text/html": [
       "<div>\n",
       "<style scoped>\n",
       "    .dataframe tbody tr th:only-of-type {\n",
       "        vertical-align: middle;\n",
       "    }\n",
       "\n",
       "    .dataframe tbody tr th {\n",
       "        vertical-align: top;\n",
       "    }\n",
       "\n",
       "    .dataframe thead th {\n",
       "        text-align: right;\n",
       "    }\n",
       "</style>\n",
       "<table border=\"1\" class=\"dataframe\">\n",
       "  <thead>\n",
       "    <tr style=\"text-align: right;\">\n",
       "      <th></th>\n",
       "      <th>text</th>\n",
       "    </tr>\n",
       "  </thead>\n",
       "  <tbody>\n",
       "    <tr>\n",
       "      <th>0</th>\n",
       "      <td>هل اصابك شيء فيها مثل لسعه حشره او ضربه عصا او...</td>\n",
       "    </tr>\n",
       "    <tr>\n",
       "      <th>1</th>\n",
       "      <td>هل اصابك شيء فيها مثل رفعت عشره او ضربه عصا او...</td>\n",
       "    </tr>\n",
       "    <tr>\n",
       "      <th>2</th>\n",
       "      <td>هل اصابك شيء فيها مثل لسعه حشره او ضربه عصا او...</td>\n",
       "    </tr>\n",
       "    <tr>\n",
       "      <th>3</th>\n",
       "      <td>هل اصابك شيء فيها مثل لسعه حشره او ضربه عصا او...</td>\n",
       "    </tr>\n",
       "    <tr>\n",
       "      <th>4</th>\n",
       "      <td>هل اصابك شيء فيها مثل لاذعه حشره او ضرب في عصا...</td>\n",
       "    </tr>\n",
       "  </tbody>\n",
       "</table>\n",
       "</div>"
      ],
      "text/plain": [
       "                                                text\n",
       "0  هل اصابك شيء فيها مثل لسعه حشره او ضربه عصا او...\n",
       "1  هل اصابك شيء فيها مثل رفعت عشره او ضربه عصا او...\n",
       "2  هل اصابك شيء فيها مثل لسعه حشره او ضربه عصا او...\n",
       "3  هل اصابك شيء فيها مثل لسعه حشره او ضربه عصا او...\n",
       "4  هل اصابك شيء فيها مثل لاذعه حشره او ضرب في عصا..."
      ]
     },
     "execution_count": 5,
     "metadata": {},
     "output_type": "execute_result"
    }
   ],
   "source": [
    "bug.head()"
   ]
  },
  {
   "cell_type": "code",
   "execution_count": 6,
   "id": "96ca48e7",
   "metadata": {},
   "outputs": [],
   "source": [
    "bug['class'] = 'bug-pit'"
   ]
  },
  {
   "cell_type": "code",
   "execution_count": 7,
   "id": "e19d98da",
   "metadata": {},
   "outputs": [
    {
     "data": {
      "text/html": [
       "<div>\n",
       "<style scoped>\n",
       "    .dataframe tbody tr th:only-of-type {\n",
       "        vertical-align: middle;\n",
       "    }\n",
       "\n",
       "    .dataframe tbody tr th {\n",
       "        vertical-align: top;\n",
       "    }\n",
       "\n",
       "    .dataframe thead th {\n",
       "        text-align: right;\n",
       "    }\n",
       "</style>\n",
       "<table border=\"1\" class=\"dataframe\">\n",
       "  <thead>\n",
       "    <tr style=\"text-align: right;\">\n",
       "      <th></th>\n",
       "      <th>text</th>\n",
       "      <th>class</th>\n",
       "    </tr>\n",
       "  </thead>\n",
       "  <tbody>\n",
       "    <tr>\n",
       "      <th>0</th>\n",
       "      <td>هل اصابك شيء فيها مثل لسعه حشره او ضربه عصا او...</td>\n",
       "      <td>bug-pit</td>\n",
       "    </tr>\n",
       "    <tr>\n",
       "      <th>1</th>\n",
       "      <td>هل اصابك شيء فيها مثل رفعت عشره او ضربه عصا او...</td>\n",
       "      <td>bug-pit</td>\n",
       "    </tr>\n",
       "    <tr>\n",
       "      <th>2</th>\n",
       "      <td>هل اصابك شيء فيها مثل لسعه حشره او ضربه عصا او...</td>\n",
       "      <td>bug-pit</td>\n",
       "    </tr>\n",
       "    <tr>\n",
       "      <th>3</th>\n",
       "      <td>هل اصابك شيء فيها مثل لسعه حشره او ضربه عصا او...</td>\n",
       "      <td>bug-pit</td>\n",
       "    </tr>\n",
       "    <tr>\n",
       "      <th>4</th>\n",
       "      <td>هل اصابك شيء فيها مثل لاذعه حشره او ضرب في عصا...</td>\n",
       "      <td>bug-pit</td>\n",
       "    </tr>\n",
       "    <tr>\n",
       "      <th>5</th>\n",
       "      <td>هل اصابك شيء فيها مثل رفعت حشره او ضرب او نحو ذلك</td>\n",
       "      <td>bug-pit</td>\n",
       "    </tr>\n",
       "    <tr>\n",
       "      <th>6</th>\n",
       "      <td>هل اصابك شيء فيها مثل والزعتر تحشر او ضربه عصا...</td>\n",
       "      <td>bug-pit</td>\n",
       "    </tr>\n",
       "    <tr>\n",
       "      <th>7</th>\n",
       "      <td>هل اصابك شيء فيها مثل اذا تحشر او ضربت عسى او ...</td>\n",
       "      <td>bug-pit</td>\n",
       "    </tr>\n",
       "    <tr>\n",
       "      <th>8</th>\n",
       "      <td>هل اصابك شيء فيها مثل الافعى حشره او ضربه عصا ...</td>\n",
       "      <td>bug-pit</td>\n",
       "    </tr>\n",
       "    <tr>\n",
       "      <th>9</th>\n",
       "      <td>هل اصابك شيء فيها مثل لسعات حشره او ضربه عصا ا...</td>\n",
       "      <td>bug-pit</td>\n",
       "    </tr>\n",
       "  </tbody>\n",
       "</table>\n",
       "</div>"
      ],
      "text/plain": [
       "                                                text    class\n",
       "0  هل اصابك شيء فيها مثل لسعه حشره او ضربه عصا او...  bug-pit\n",
       "1  هل اصابك شيء فيها مثل رفعت عشره او ضربه عصا او...  bug-pit\n",
       "2  هل اصابك شيء فيها مثل لسعه حشره او ضربه عصا او...  bug-pit\n",
       "3  هل اصابك شيء فيها مثل لسعه حشره او ضربه عصا او...  bug-pit\n",
       "4  هل اصابك شيء فيها مثل لاذعه حشره او ضرب في عصا...  bug-pit\n",
       "5  هل اصابك شيء فيها مثل رفعت حشره او ضرب او نحو ذلك  bug-pit\n",
       "6  هل اصابك شيء فيها مثل والزعتر تحشر او ضربه عصا...  bug-pit\n",
       "7  هل اصابك شيء فيها مثل اذا تحشر او ضربت عسى او ...  bug-pit\n",
       "8  هل اصابك شيء فيها مثل الافعى حشره او ضربه عصا ...  bug-pit\n",
       "9  هل اصابك شيء فيها مثل لسعات حشره او ضربه عصا ا...  bug-pit"
      ]
     },
     "execution_count": 7,
     "metadata": {},
     "output_type": "execute_result"
    }
   ],
   "source": [
    "bug.head(10)"
   ]
  },
  {
   "cell_type": "code",
   "execution_count": 8,
   "id": "a79eae51",
   "metadata": {},
   "outputs": [
    {
     "data": {
      "text/html": [
       "<div>\n",
       "<style scoped>\n",
       "    .dataframe tbody tr th:only-of-type {\n",
       "        vertical-align: middle;\n",
       "    }\n",
       "\n",
       "    .dataframe tbody tr th {\n",
       "        vertical-align: top;\n",
       "    }\n",
       "\n",
       "    .dataframe thead th {\n",
       "        text-align: right;\n",
       "    }\n",
       "</style>\n",
       "<table border=\"1\" class=\"dataframe\">\n",
       "  <thead>\n",
       "    <tr style=\"text-align: right;\">\n",
       "      <th></th>\n",
       "      <th>text</th>\n",
       "      <th>class</th>\n",
       "    </tr>\n",
       "  </thead>\n",
       "  <tbody>\n",
       "    <tr>\n",
       "      <th>49</th>\n",
       "      <td>الى اين تتجه هذه العلامه وهذه وهذه</td>\n",
       "      <td>direction</td>\n",
       "    </tr>\n",
       "    <tr>\n",
       "      <th>50</th>\n",
       "      <td>الى اين تتجه هذه العلامه وهذه وهذه</td>\n",
       "      <td>direction</td>\n",
       "    </tr>\n",
       "    <tr>\n",
       "      <th>51</th>\n",
       "      <td>الى اين تتجه هذه العلامه وهذه وهذه وهذه</td>\n",
       "      <td>direction</td>\n",
       "    </tr>\n",
       "    <tr>\n",
       "      <th>52</th>\n",
       "      <td>الى اين تتجه هذه العلامه وهذه وهذه وهذه</td>\n",
       "      <td>direction</td>\n",
       "    </tr>\n",
       "    <tr>\n",
       "      <th>53</th>\n",
       "      <td>الى اين تتجه هذه العلامه وهذه وهذه وهذه</td>\n",
       "      <td>direction</td>\n",
       "    </tr>\n",
       "    <tr>\n",
       "      <th>54</th>\n",
       "      <td>الى اين تتجه هذه العلامه وهذه وهذه وهذه</td>\n",
       "      <td>direction</td>\n",
       "    </tr>\n",
       "  </tbody>\n",
       "</table>\n",
       "</div>"
      ],
      "text/plain": [
       "                                       text      class\n",
       "49       الى اين تتجه هذه العلامه وهذه وهذه  direction\n",
       "50       الى اين تتجه هذه العلامه وهذه وهذه  direction\n",
       "51  الى اين تتجه هذه العلامه وهذه وهذه وهذه  direction\n",
       "52  الى اين تتجه هذه العلامه وهذه وهذه وهذه  direction\n",
       "53  الى اين تتجه هذه العلامه وهذه وهذه وهذه  direction\n",
       "54  الى اين تتجه هذه العلامه وهذه وهذه وهذه  direction"
      ]
     },
     "execution_count": 8,
     "metadata": {},
     "output_type": "execute_result"
    }
   ],
   "source": [
    "direction = pd.read_csv('../Data(Sound & Text)/Text/direction.txt')\n",
    "direction['class'] = 'direction'\n",
    "direction.tail(6)"
   ]
  },
  {
   "cell_type": "code",
   "execution_count": 10,
   "id": "b535684a",
   "metadata": {},
   "outputs": [
    {
     "data": {
      "text/html": [
       "<div>\n",
       "<style scoped>\n",
       "    .dataframe tbody tr th:only-of-type {\n",
       "        vertical-align: middle;\n",
       "    }\n",
       "\n",
       "    .dataframe tbody tr th {\n",
       "        vertical-align: top;\n",
       "    }\n",
       "\n",
       "    .dataframe thead th {\n",
       "        text-align: right;\n",
       "    }\n",
       "</style>\n",
       "<table border=\"1\" class=\"dataframe\">\n",
       "  <thead>\n",
       "    <tr style=\"text-align: right;\">\n",
       "      <th></th>\n",
       "      <th>text</th>\n",
       "      <th>class</th>\n",
       "    </tr>\n",
       "  </thead>\n",
       "  <tbody>\n",
       "    <tr>\n",
       "      <th>46</th>\n",
       "      <td>هل لديك مرض السكري او اي مرض مزمن</td>\n",
       "      <td>Sugar</td>\n",
       "    </tr>\n",
       "    <tr>\n",
       "      <th>47</th>\n",
       "      <td>هل لديك مرض السكري او اي مرض</td>\n",
       "      <td>Sugar</td>\n",
       "    </tr>\n",
       "    <tr>\n",
       "      <th>48</th>\n",
       "      <td>هل لديك مرض السكري او اي او اي مرض مزمن</td>\n",
       "      <td>Sugar</td>\n",
       "    </tr>\n",
       "    <tr>\n",
       "      <th>49</th>\n",
       "      <td>هل لديك مرض السكري او اي مرض مزمن</td>\n",
       "      <td>Sugar</td>\n",
       "    </tr>\n",
       "    <tr>\n",
       "      <th>50</th>\n",
       "      <td>هل لديك مرض السكري او اي مرض مزمن</td>\n",
       "      <td>Sugar</td>\n",
       "    </tr>\n",
       "    <tr>\n",
       "      <th>51</th>\n",
       "      <td>هل لديك مرض السكري او اي مرض</td>\n",
       "      <td>Sugar</td>\n",
       "    </tr>\n",
       "  </tbody>\n",
       "</table>\n",
       "</div>"
      ],
      "text/plain": [
       "                                       text  class\n",
       "46        هل لديك مرض السكري او اي مرض مزمن  Sugar\n",
       "47             هل لديك مرض السكري او اي مرض  Sugar\n",
       "48  هل لديك مرض السكري او اي او اي مرض مزمن  Sugar\n",
       "49        هل لديك مرض السكري او اي مرض مزمن  Sugar\n",
       "50        هل لديك مرض السكري او اي مرض مزمن  Sugar\n",
       "51             هل لديك مرض السكري او اي مرض  Sugar"
      ]
     },
     "execution_count": 10,
     "metadata": {},
     "output_type": "execute_result"
    }
   ],
   "source": [
    "Sugar = pd.read_csv('../Data(Sound & Text)/Text/Sugar.txt')\n",
    "Sugar['class'] = 'Sugar'\n",
    "Sugar.tail(6)"
   ]
  },
  {
   "cell_type": "code",
   "execution_count": 11,
   "id": "2c97e1bb",
   "metadata": {},
   "outputs": [
    {
     "data": {
      "text/html": [
       "<div>\n",
       "<style scoped>\n",
       "    .dataframe tbody tr th:only-of-type {\n",
       "        vertical-align: middle;\n",
       "    }\n",
       "\n",
       "    .dataframe tbody tr th {\n",
       "        vertical-align: top;\n",
       "    }\n",
       "\n",
       "    .dataframe thead th {\n",
       "        text-align: right;\n",
       "    }\n",
       "</style>\n",
       "<table border=\"1\" class=\"dataframe\">\n",
       "  <thead>\n",
       "    <tr style=\"text-align: right;\">\n",
       "      <th></th>\n",
       "      <th>text</th>\n",
       "      <th>class</th>\n",
       "    </tr>\n",
       "  </thead>\n",
       "  <tbody>\n",
       "    <tr>\n",
       "      <th>46</th>\n",
       "      <td>وهذه هذه النظاره ارسلها</td>\n",
       "      <td>glasses</td>\n",
       "    </tr>\n",
       "    <tr>\n",
       "      <th>47</th>\n",
       "      <td>ارتدي هذه النظاره</td>\n",
       "      <td>glasses</td>\n",
       "    </tr>\n",
       "    <tr>\n",
       "      <th>48</th>\n",
       "      <td>يرتدي هذه النظاره</td>\n",
       "      <td>glasses</td>\n",
       "    </tr>\n",
       "    <tr>\n",
       "      <th>49</th>\n",
       "      <td>ارتدي هذه النظاره</td>\n",
       "      <td>glasses</td>\n",
       "    </tr>\n",
       "    <tr>\n",
       "      <th>50</th>\n",
       "      <td>ابتدي هذه النظاره</td>\n",
       "      <td>glasses</td>\n",
       "    </tr>\n",
       "    <tr>\n",
       "      <th>51</th>\n",
       "      <td>ارتدي هذه النظاره</td>\n",
       "      <td>glasses</td>\n",
       "    </tr>\n",
       "  </tbody>\n",
       "</table>\n",
       "</div>"
      ],
      "text/plain": [
       "                       text    class\n",
       "46  وهذه هذه النظاره ارسلها  glasses\n",
       "47        ارتدي هذه النظاره  glasses\n",
       "48        يرتدي هذه النظاره  glasses\n",
       "49        ارتدي هذه النظاره  glasses\n",
       "50        ابتدي هذه النظاره  glasses\n",
       "51        ارتدي هذه النظاره  glasses"
      ]
     },
     "execution_count": 11,
     "metadata": {},
     "output_type": "execute_result"
    }
   ],
   "source": [
    "glasses = pd.read_csv('../Data(Sound & Text)/Text/glasses.txt')\n",
    "glasses['class'] = 'glasses'\n",
    "glasses.tail(6)"
   ]
  },
  {
   "cell_type": "code",
   "execution_count": 12,
   "id": "e09e3285",
   "metadata": {},
   "outputs": [
    {
     "data": {
      "text/html": [
       "<div>\n",
       "<style scoped>\n",
       "    .dataframe tbody tr th:only-of-type {\n",
       "        vertical-align: middle;\n",
       "    }\n",
       "\n",
       "    .dataframe tbody tr th {\n",
       "        vertical-align: top;\n",
       "    }\n",
       "\n",
       "    .dataframe thead th {\n",
       "        text-align: right;\n",
       "    }\n",
       "</style>\n",
       "<table border=\"1\" class=\"dataframe\">\n",
       "  <thead>\n",
       "    <tr style=\"text-align: right;\">\n",
       "      <th></th>\n",
       "      <th>text</th>\n",
       "      <th>class</th>\n",
       "    </tr>\n",
       "  </thead>\n",
       "  <tbody>\n",
       "    <tr>\n",
       "      <th>37</th>\n",
       "      <td>تجعر بالصداع</td>\n",
       "      <td>headache</td>\n",
       "    </tr>\n",
       "    <tr>\n",
       "      <th>38</th>\n",
       "      <td>هل تشعر بصداع</td>\n",
       "      <td>headache</td>\n",
       "    </tr>\n",
       "    <tr>\n",
       "      <th>39</th>\n",
       "      <td>اشعر بالصداع</td>\n",
       "      <td>headache</td>\n",
       "    </tr>\n",
       "    <tr>\n",
       "      <th>40</th>\n",
       "      <td>هل تجعر وصداع هل تجعلوا بصداع</td>\n",
       "      <td>headache</td>\n",
       "    </tr>\n",
       "    <tr>\n",
       "      <th>41</th>\n",
       "      <td>السؤال الثالث هل تشعر بالصداع</td>\n",
       "      <td>headache</td>\n",
       "    </tr>\n",
       "    <tr>\n",
       "      <th>42</th>\n",
       "      <td>هل تشعر بصداع</td>\n",
       "      <td>headache</td>\n",
       "    </tr>\n",
       "    <tr>\n",
       "      <th>43</th>\n",
       "      <td>هل تجرب الصداع</td>\n",
       "      <td>headache</td>\n",
       "    </tr>\n",
       "    <tr>\n",
       "      <th>44</th>\n",
       "      <td>هل تشعر بالصداع</td>\n",
       "      <td>headache</td>\n",
       "    </tr>\n",
       "    <tr>\n",
       "      <th>45</th>\n",
       "      <td>هل تشعر بالصداع</td>\n",
       "      <td>headache</td>\n",
       "    </tr>\n",
       "    <tr>\n",
       "      <th>46</th>\n",
       "      <td>هل تشعر بالصداع هل تشعر بالصداع</td>\n",
       "      <td>headache</td>\n",
       "    </tr>\n",
       "    <tr>\n",
       "      <th>47</th>\n",
       "      <td>هل تشعر بصداع</td>\n",
       "      <td>headache</td>\n",
       "    </tr>\n",
       "    <tr>\n",
       "      <th>48</th>\n",
       "      <td>هل تشعر</td>\n",
       "      <td>headache</td>\n",
       "    </tr>\n",
       "    <tr>\n",
       "      <th>49</th>\n",
       "      <td>هل تشعر بصداع</td>\n",
       "      <td>headache</td>\n",
       "    </tr>\n",
       "    <tr>\n",
       "      <th>50</th>\n",
       "      <td>هل تشعر بصداع</td>\n",
       "      <td>headache</td>\n",
       "    </tr>\n",
       "    <tr>\n",
       "      <th>51</th>\n",
       "      <td>هل تشرب لصداع</td>\n",
       "      <td>headache</td>\n",
       "    </tr>\n",
       "    <tr>\n",
       "      <th>52</th>\n",
       "      <td>هل تشعر بصداع</td>\n",
       "      <td>headache</td>\n",
       "    </tr>\n",
       "  </tbody>\n",
       "</table>\n",
       "</div>"
      ],
      "text/plain": [
       "                               text     class\n",
       "37                     تجعر بالصداع  headache\n",
       "38                    هل تشعر بصداع  headache\n",
       "39                     اشعر بالصداع  headache\n",
       "40    هل تجعر وصداع هل تجعلوا بصداع  headache\n",
       "41    السؤال الثالث هل تشعر بالصداع  headache\n",
       "42                    هل تشعر بصداع  headache\n",
       "43                   هل تجرب الصداع  headache\n",
       "44                  هل تشعر بالصداع  headache\n",
       "45                  هل تشعر بالصداع  headache\n",
       "46  هل تشعر بالصداع هل تشعر بالصداع  headache\n",
       "47                    هل تشعر بصداع  headache\n",
       "48                          هل تشعر  headache\n",
       "49                    هل تشعر بصداع  headache\n",
       "50                    هل تشعر بصداع  headache\n",
       "51                    هل تشرب لصداع  headache\n",
       "52                    هل تشعر بصداع  headache"
      ]
     },
     "execution_count": 12,
     "metadata": {},
     "output_type": "execute_result"
    }
   ],
   "source": [
    "headache = pd.read_csv('../Data(Sound & Text)/Text/headache.txt')\n",
    "headache['class'] = 'headache'\n",
    "headache.tail(16)"
   ]
  },
  {
   "cell_type": "code",
   "execution_count": 13,
   "id": "2966aa16",
   "metadata": {},
   "outputs": [
    {
     "data": {
      "text/html": [
       "<div>\n",
       "<style scoped>\n",
       "    .dataframe tbody tr th:only-of-type {\n",
       "        vertical-align: middle;\n",
       "    }\n",
       "\n",
       "    .dataframe tbody tr th {\n",
       "        vertical-align: top;\n",
       "    }\n",
       "\n",
       "    .dataframe thead th {\n",
       "        text-align: right;\n",
       "    }\n",
       "</style>\n",
       "<table border=\"1\" class=\"dataframe\">\n",
       "  <thead>\n",
       "    <tr style=\"text-align: right;\">\n",
       "      <th></th>\n",
       "      <th>text</th>\n",
       "      <th>class</th>\n",
       "    </tr>\n",
       "  </thead>\n",
       "  <tbody>\n",
       "    <tr>\n",
       "      <th>0</th>\n",
       "      <td>اسامي الاشعه بعمل صوره اشعه للعينين</td>\n",
       "      <td>ray</td>\n",
       "    </tr>\n",
       "    <tr>\n",
       "      <th>1</th>\n",
       "      <td>اذهب الى الاشعه و اعمل صوره اشعه للعينين</td>\n",
       "      <td>ray</td>\n",
       "    </tr>\n",
       "    <tr>\n",
       "      <th>2</th>\n",
       "      <td>اذهب الى الاشعه و اعمل صوره اشعه للعينين</td>\n",
       "      <td>ray</td>\n",
       "    </tr>\n",
       "    <tr>\n",
       "      <th>3</th>\n",
       "      <td>اذهب الى الاشعه و اعمل صوره اشعه من العين</td>\n",
       "      <td>ray</td>\n",
       "    </tr>\n",
       "    <tr>\n",
       "      <th>4</th>\n",
       "      <td>الاشعه وين صوره اشعه للعينين</td>\n",
       "      <td>ray</td>\n",
       "    </tr>\n",
       "    <tr>\n",
       "      <th>5</th>\n",
       "      <td>اذهب الى الاشعه واعمر صوره اشعه للعينين</td>\n",
       "      <td>ray</td>\n",
       "    </tr>\n",
       "    <tr>\n",
       "      <th>6</th>\n",
       "      <td>اذهب الى الاشعه وقم بعمل صوره اسال العينين</td>\n",
       "      <td>ray</td>\n",
       "    </tr>\n",
       "    <tr>\n",
       "      <th>7</th>\n",
       "      <td>اذهب الى الاشعه و اعمل صوره اشعه للعينين</td>\n",
       "      <td>ray</td>\n",
       "    </tr>\n",
       "  </tbody>\n",
       "</table>\n",
       "</div>"
      ],
      "text/plain": [
       "                                         text class\n",
       "0         اسامي الاشعه بعمل صوره اشعه للعينين   ray\n",
       "1    اذهب الى الاشعه و اعمل صوره اشعه للعينين   ray\n",
       "2    اذهب الى الاشعه و اعمل صوره اشعه للعينين   ray\n",
       "3   اذهب الى الاشعه و اعمل صوره اشعه من العين   ray\n",
       "4                الاشعه وين صوره اشعه للعينين   ray\n",
       "5     اذهب الى الاشعه واعمر صوره اشعه للعينين   ray\n",
       "6  اذهب الى الاشعه وقم بعمل صوره اسال العينين   ray\n",
       "7    اذهب الى الاشعه و اعمل صوره اشعه للعينين   ray"
      ]
     },
     "execution_count": 13,
     "metadata": {},
     "output_type": "execute_result"
    }
   ],
   "source": [
    "ray = pd.read_csv('../Data(Sound & Text)/Text/ray.txt')\n",
    "ray['class'] = 'ray'\n",
    "ray.head(8)"
   ]
  },
  {
   "cell_type": "code",
   "execution_count": 14,
   "id": "0ef5ca91",
   "metadata": {},
   "outputs": [
    {
     "data": {
      "text/html": [
       "<div>\n",
       "<style scoped>\n",
       "    .dataframe tbody tr th:only-of-type {\n",
       "        vertical-align: middle;\n",
       "    }\n",
       "\n",
       "    .dataframe tbody tr th {\n",
       "        vertical-align: top;\n",
       "    }\n",
       "\n",
       "    .dataframe thead th {\n",
       "        text-align: right;\n",
       "    }\n",
       "</style>\n",
       "<table border=\"1\" class=\"dataframe\">\n",
       "  <thead>\n",
       "    <tr style=\"text-align: right;\">\n",
       "      <th></th>\n",
       "      <th>text</th>\n",
       "      <th>class</th>\n",
       "    </tr>\n",
       "  </thead>\n",
       "  <tbody>\n",
       "    <tr>\n",
       "      <th>0</th>\n",
       "      <td>حسنا اللي في نامي فضلك وضع راسك في هذا الجهاز</td>\n",
       "      <td>Sit-down</td>\n",
       "    </tr>\n",
       "    <tr>\n",
       "      <th>1</th>\n",
       "      <td>حسنا اجلس هنا من فضلك وضع راسك في هذا الجهاز</td>\n",
       "      <td>Sit-down</td>\n",
       "    </tr>\n",
       "    <tr>\n",
       "      <th>2</th>\n",
       "      <td>حسنا اجلس هنا من فضلك وضع راسك في هذا الجهاز</td>\n",
       "      <td>Sit-down</td>\n",
       "    </tr>\n",
       "    <tr>\n",
       "      <th>3</th>\n",
       "      <td>حسنا اجلس هنا من فضلك وضع راسك في هذا الجهاز</td>\n",
       "      <td>Sit-down</td>\n",
       "    </tr>\n",
       "    <tr>\n",
       "      <th>4</th>\n",
       "      <td>حسنا اجلس هنا من فضلك وضع راسك في هذا الجهاز</td>\n",
       "      <td>Sit-down</td>\n",
       "    </tr>\n",
       "    <tr>\n",
       "      <th>5</th>\n",
       "      <td>حسنا اجلس هنا من فضلك قطع راسك في هذا الجهاز</td>\n",
       "      <td>Sit-down</td>\n",
       "    </tr>\n",
       "    <tr>\n",
       "      <th>6</th>\n",
       "      <td>حسنا اجلس هنا من فضلك وضاع راسخه في هذا الجهاز</td>\n",
       "      <td>Sit-down</td>\n",
       "    </tr>\n",
       "    <tr>\n",
       "      <th>7</th>\n",
       "      <td>حسنا اجلس هنا من فضلك وضاع راسخه في هذا الجهاز</td>\n",
       "      <td>Sit-down</td>\n",
       "    </tr>\n",
       "    <tr>\n",
       "      <th>8</th>\n",
       "      <td>اجلس هنا من فضلك وضع الماسك في هذا الجهاز</td>\n",
       "      <td>Sit-down</td>\n",
       "    </tr>\n",
       "    <tr>\n",
       "      <th>9</th>\n",
       "      <td>حسنا اجلس هنا من فضلك وضع راسك في هذا الجهاز</td>\n",
       "      <td>Sit-down</td>\n",
       "    </tr>\n",
       "  </tbody>\n",
       "</table>\n",
       "</div>"
      ],
      "text/plain": [
       "                                             text     class\n",
       "0   حسنا اللي في نامي فضلك وضع راسك في هذا الجهاز  Sit-down\n",
       "1    حسنا اجلس هنا من فضلك وضع راسك في هذا الجهاز  Sit-down\n",
       "2    حسنا اجلس هنا من فضلك وضع راسك في هذا الجهاز  Sit-down\n",
       "3    حسنا اجلس هنا من فضلك وضع راسك في هذا الجهاز  Sit-down\n",
       "4    حسنا اجلس هنا من فضلك وضع راسك في هذا الجهاز  Sit-down\n",
       "5    حسنا اجلس هنا من فضلك قطع راسك في هذا الجهاز  Sit-down\n",
       "6  حسنا اجلس هنا من فضلك وضاع راسخه في هذا الجهاز  Sit-down\n",
       "7  حسنا اجلس هنا من فضلك وضاع راسخه في هذا الجهاز  Sit-down\n",
       "8       اجلس هنا من فضلك وضع الماسك في هذا الجهاز  Sit-down\n",
       "9    حسنا اجلس هنا من فضلك وضع راسك في هذا الجهاز  Sit-down"
      ]
     },
     "execution_count": 14,
     "metadata": {},
     "output_type": "execute_result"
    }
   ],
   "source": [
    "Sit_down = pd.read_csv('../Data(Sound & Text)/Text/Sit-down.txt')\n",
    "Sit_down['class'] = 'Sit-down'\n",
    "Sit_down.head(10)"
   ]
  },
  {
   "cell_type": "markdown",
   "id": "6d6587d7",
   "metadata": {},
   "source": [
    "## Make a Data set from our data"
   ]
  },
  {
   "cell_type": "code",
   "execution_count": 15,
   "id": "4942fa22",
   "metadata": {},
   "outputs": [],
   "source": [
    "pdList = [bug, direction, Sugar, glasses, headache, ray, Sit_down]  # List of your dataframes"
   ]
  },
  {
   "cell_type": "code",
   "execution_count": 16,
   "id": "947e2d27",
   "metadata": {},
   "outputs": [],
   "source": [
    "df = pd.concat(pdList)"
   ]
  },
  {
   "cell_type": "code",
   "execution_count": 17,
   "id": "0bfb8b97",
   "metadata": {
    "scrolled": true
   },
   "outputs": [
    {
     "data": {
      "text/html": [
       "<div>\n",
       "<style scoped>\n",
       "    .dataframe tbody tr th:only-of-type {\n",
       "        vertical-align: middle;\n",
       "    }\n",
       "\n",
       "    .dataframe tbody tr th {\n",
       "        vertical-align: top;\n",
       "    }\n",
       "\n",
       "    .dataframe thead th {\n",
       "        text-align: right;\n",
       "    }\n",
       "</style>\n",
       "<table border=\"1\" class=\"dataframe\">\n",
       "  <thead>\n",
       "    <tr style=\"text-align: right;\">\n",
       "      <th></th>\n",
       "      <th>text</th>\n",
       "      <th>class</th>\n",
       "    </tr>\n",
       "  </thead>\n",
       "  <tbody>\n",
       "    <tr>\n",
       "      <th>0</th>\n",
       "      <td>هل اصابك شيء فيها مثل لسعه حشره او ضربه عصا او...</td>\n",
       "      <td>bug-pit</td>\n",
       "    </tr>\n",
       "    <tr>\n",
       "      <th>1</th>\n",
       "      <td>هل اصابك شيء فيها مثل رفعت عشره او ضربه عصا او...</td>\n",
       "      <td>bug-pit</td>\n",
       "    </tr>\n",
       "    <tr>\n",
       "      <th>2</th>\n",
       "      <td>هل اصابك شيء فيها مثل لسعه حشره او ضربه عصا او...</td>\n",
       "      <td>bug-pit</td>\n",
       "    </tr>\n",
       "    <tr>\n",
       "      <th>3</th>\n",
       "      <td>هل اصابك شيء فيها مثل لسعه حشره او ضربه عصا او...</td>\n",
       "      <td>bug-pit</td>\n",
       "    </tr>\n",
       "    <tr>\n",
       "      <th>4</th>\n",
       "      <td>هل اصابك شيء فيها مثل لاذعه حشره او ضرب في عصا...</td>\n",
       "      <td>bug-pit</td>\n",
       "    </tr>\n",
       "    <tr>\n",
       "      <th>5</th>\n",
       "      <td>هل اصابك شيء فيها مثل رفعت حشره او ضرب او نحو ذلك</td>\n",
       "      <td>bug-pit</td>\n",
       "    </tr>\n",
       "    <tr>\n",
       "      <th>6</th>\n",
       "      <td>هل اصابك شيء فيها مثل والزعتر تحشر او ضربه عصا...</td>\n",
       "      <td>bug-pit</td>\n",
       "    </tr>\n",
       "    <tr>\n",
       "      <th>7</th>\n",
       "      <td>هل اصابك شيء فيها مثل اذا تحشر او ضربت عسى او ...</td>\n",
       "      <td>bug-pit</td>\n",
       "    </tr>\n",
       "    <tr>\n",
       "      <th>8</th>\n",
       "      <td>هل اصابك شيء فيها مثل الافعى حشره او ضربه عصا ...</td>\n",
       "      <td>bug-pit</td>\n",
       "    </tr>\n",
       "    <tr>\n",
       "      <th>9</th>\n",
       "      <td>هل اصابك شيء فيها مثل لسعات حشره او ضربه عصا ا...</td>\n",
       "      <td>bug-pit</td>\n",
       "    </tr>\n",
       "  </tbody>\n",
       "</table>\n",
       "</div>"
      ],
      "text/plain": [
       "                                                text    class\n",
       "0  هل اصابك شيء فيها مثل لسعه حشره او ضربه عصا او...  bug-pit\n",
       "1  هل اصابك شيء فيها مثل رفعت عشره او ضربه عصا او...  bug-pit\n",
       "2  هل اصابك شيء فيها مثل لسعه حشره او ضربه عصا او...  bug-pit\n",
       "3  هل اصابك شيء فيها مثل لسعه حشره او ضربه عصا او...  bug-pit\n",
       "4  هل اصابك شيء فيها مثل لاذعه حشره او ضرب في عصا...  bug-pit\n",
       "5  هل اصابك شيء فيها مثل رفعت حشره او ضرب او نحو ذلك  bug-pit\n",
       "6  هل اصابك شيء فيها مثل والزعتر تحشر او ضربه عصا...  bug-pit\n",
       "7  هل اصابك شيء فيها مثل اذا تحشر او ضربت عسى او ...  bug-pit\n",
       "8  هل اصابك شيء فيها مثل الافعى حشره او ضربه عصا ...  bug-pit\n",
       "9  هل اصابك شيء فيها مثل لسعات حشره او ضربه عصا ا...  bug-pit"
      ]
     },
     "execution_count": 17,
     "metadata": {},
     "output_type": "execute_result"
    }
   ],
   "source": [
    "df.head(10)"
   ]
  },
  {
   "cell_type": "markdown",
   "id": "64ffa764",
   "metadata": {},
   "source": [
    "Its look our data is note shuffle lets shuffle them"
   ]
  },
  {
   "cell_type": "code",
   "execution_count": 18,
   "id": "a95cc3ed",
   "metadata": {},
   "outputs": [],
   "source": [
    "df = df.sample(frac=1)"
   ]
  },
  {
   "cell_type": "code",
   "execution_count": 19,
   "id": "5a80a3fd",
   "metadata": {
    "scrolled": true
   },
   "outputs": [
    {
     "data": {
      "text/html": [
       "<div>\n",
       "<style scoped>\n",
       "    .dataframe tbody tr th:only-of-type {\n",
       "        vertical-align: middle;\n",
       "    }\n",
       "\n",
       "    .dataframe tbody tr th {\n",
       "        vertical-align: top;\n",
       "    }\n",
       "\n",
       "    .dataframe thead th {\n",
       "        text-align: right;\n",
       "    }\n",
       "</style>\n",
       "<table border=\"1\" class=\"dataframe\">\n",
       "  <thead>\n",
       "    <tr style=\"text-align: right;\">\n",
       "      <th></th>\n",
       "      <th>text</th>\n",
       "      <th>class</th>\n",
       "    </tr>\n",
       "  </thead>\n",
       "  <tbody>\n",
       "    <tr>\n",
       "      <th>51</th>\n",
       "      <td>حسنا اديسون افضل وضع راسك في هذا الجهاز</td>\n",
       "      <td>Sit-down</td>\n",
       "    </tr>\n",
       "    <tr>\n",
       "      <th>2</th>\n",
       "      <td>هل اصابك شيء فيها مثل لسعه حشره او ضربه عصا او...</td>\n",
       "      <td>bug-pit</td>\n",
       "    </tr>\n",
       "    <tr>\n",
       "      <th>9</th>\n",
       "      <td>تشتري هذه النظاره</td>\n",
       "      <td>glasses</td>\n",
       "    </tr>\n",
       "    <tr>\n",
       "      <th>23</th>\n",
       "      <td>هل لديك مرض السكري او اي مرض مزمن</td>\n",
       "      <td>Sugar</td>\n",
       "    </tr>\n",
       "    <tr>\n",
       "      <th>15</th>\n",
       "      <td>هل تشعر بالصداع</td>\n",
       "      <td>headache</td>\n",
       "    </tr>\n",
       "  </tbody>\n",
       "</table>\n",
       "</div>"
      ],
      "text/plain": [
       "                                                 text     class\n",
       "51            حسنا اديسون افضل وضع راسك في هذا الجهاز  Sit-down\n",
       "2   هل اصابك شيء فيها مثل لسعه حشره او ضربه عصا او...   bug-pit\n",
       "9                                   تشتري هذه النظاره   glasses\n",
       "23                  هل لديك مرض السكري او اي مرض مزمن     Sugar\n",
       "15                                    هل تشعر بالصداع  headache"
      ]
     },
     "execution_count": 19,
     "metadata": {},
     "output_type": "execute_result"
    }
   ],
   "source": [
    "df.head()"
   ]
  },
  {
   "cell_type": "markdown",
   "id": "7564ec84",
   "metadata": {},
   "source": [
    "with reset index"
   ]
  },
  {
   "cell_type": "code",
   "execution_count": 20,
   "id": "ea64505b",
   "metadata": {},
   "outputs": [],
   "source": [
    "df = df.sample(frac=1).reset_index(drop=True)"
   ]
  },
  {
   "cell_type": "code",
   "execution_count": 21,
   "id": "1b40f139",
   "metadata": {},
   "outputs": [],
   "source": [
    "df.to_csv('train.csv',index=False)"
   ]
  },
  {
   "cell_type": "code",
   "execution_count": 186,
   "id": "268f8290",
   "metadata": {
    "scrolled": true
   },
   "outputs": [
    {
     "name": "stdout",
     "output_type": "stream",
     "text": [
      "<class 'pandas.core.frame.DataFrame'>\n",
      "RangeIndex: 377 entries, 0 to 376\n",
      "Data columns (total 2 columns):\n",
      " #   Column  Non-Null Count  Dtype   \n",
      "---  ------  --------------  -----   \n",
      " 0   text    377 non-null    category\n",
      " 1   class   377 non-null    category\n",
      "dtypes: category(2)\n",
      "memory usage: 6.9 KB\n"
     ]
    }
   ],
   "source": [
    "df.info()"
   ]
  },
  {
   "cell_type": "code",
   "execution_count": 187,
   "id": "1303ac3a",
   "metadata": {},
   "outputs": [],
   "source": [
    "df  = df[['text', 'class']].apply(lambda x: x.astype('category'))"
   ]
  },
  {
   "cell_type": "code",
   "execution_count": 188,
   "id": "e761aaa9",
   "metadata": {},
   "outputs": [],
   "source": [
    "X = df.drop('class', axis=1)\n",
    "y = df['class']"
   ]
  },
  {
   "cell_type": "code",
   "execution_count": 189,
   "id": "6b557f65",
   "metadata": {},
   "outputs": [
    {
     "data": {
      "text/plain": [
       "((377, 1), (377,))"
      ]
     },
     "execution_count": 189,
     "metadata": {},
     "output_type": "execute_result"
    }
   ],
   "source": [
    "X.shape, y.shape"
   ]
  },
  {
   "cell_type": "markdown",
   "id": "797688c3",
   "metadata": {},
   "source": [
    "## EDA"
   ]
  },
  {
   "cell_type": "code",
   "execution_count": null,
   "id": "a5269707",
   "metadata": {},
   "outputs": [],
   "source": []
  },
  {
   "cell_type": "markdown",
   "id": "7ebc74c6",
   "metadata": {},
   "source": [
    ".............................."
   ]
  },
  {
   "cell_type": "markdown",
   "id": "fcaafd5d",
   "metadata": {},
   "source": [
    "## Preprocessing"
   ]
  },
  {
   "cell_type": "markdown",
   "id": "99693232",
   "metadata": {},
   "source": [
    "### Convert labeled data to encoded data"
   ]
  },
  {
   "cell_type": "code",
   "execution_count": 218,
   "id": "80806bad",
   "metadata": {},
   "outputs": [],
   "source": [
    "from sklearn import preprocessing"
   ]
  },
  {
   "cell_type": "code",
   "execution_count": 219,
   "id": "baba99bb",
   "metadata": {},
   "outputs": [],
   "source": [
    "le = preprocessing.LabelEncoder()"
   ]
  },
  {
   "cell_type": "code",
   "execution_count": 275,
   "id": "256a034f",
   "metadata": {},
   "outputs": [
    {
     "name": "stderr",
     "output_type": "stream",
     "text": [
      "C:\\Users\\ali\\miniconda3\\envs\\tf\\lib\\site-packages\\sklearn\\preprocessing\\_label.py:98: DataConversionWarning: A column-vector y was passed when a 1d array was expected. Please change the shape of y to (n_samples, ), for example using ravel().\n",
      "  y = column_or_1d(y, warn=True)\n"
     ]
    },
    {
     "data": {
      "text/plain": [
       "LabelEncoder()"
      ]
     },
     "execution_count": 275,
     "metadata": {},
     "output_type": "execute_result"
    }
   ],
   "source": [
    "le.fit(X)"
   ]
  },
  {
   "cell_type": "code",
   "execution_count": 276,
   "id": "026e82c6",
   "metadata": {},
   "outputs": [
    {
     "name": "stderr",
     "output_type": "stream",
     "text": [
      "C:\\Users\\ali\\miniconda3\\envs\\tf\\lib\\site-packages\\sklearn\\preprocessing\\_label.py:133: DataConversionWarning: A column-vector y was passed when a 1d array was expected. Please change the shape of y to (n_samples, ), for example using ravel().\n",
      "  y = column_or_1d(y, warn=True)\n"
     ]
    }
   ],
   "source": [
    "text_encoded = le.transform(X)"
   ]
  },
  {
   "cell_type": "markdown",
   "id": "05f3f270",
   "metadata": {},
   "source": [
    "**`because there some problem we most reshape the X value with 2 D`**\n"
   ]
  },
  {
   "cell_type": "code",
   "execution_count": 277,
   "id": "9b646893",
   "metadata": {},
   "outputs": [],
   "source": [
    "text_encoded = text_encoded.reshape(-1, 1)"
   ]
  },
  {
   "cell_type": "code",
   "execution_count": 278,
   "id": "da54dc0c",
   "metadata": {},
   "outputs": [
    {
     "data": {
      "text/plain": [
       "array([ 78, 142, 135,  78,  14,  31,  55,  10,  60,  78,  91, 143, 120,\n",
       "        78,  63, 148, 109, 142, 142, 148, 136,  32, 148,   1, 148,  60,\n",
       "       112,  31, 152, 134,  20, 148, 151,  31, 144,  58,  78, 155,  31,\n",
       "         7, 142,  76,  31,  78,  60, 148,  31,  31,  31, 155,  16,  58,\n",
       "       148, 103, 128, 148, 116, 148,  78, 142,  65, 126,  91,  60,  60,\n",
       "        63, 123, 148, 142,  98,  31, 138,  79,  77,  31,  31,  51,  60,\n",
       "       148,  78,  31,  43,  62,  21, 147,  31,  31, 106, 148,  87,  78,\n",
       "        78,  15, 155,  37, 147, 148,  60, 142, 121, 142, 148,  30,  52,\n",
       "        60,  44, 140,  60, 155,  31, 142, 144, 144,  12, 130,  60,   8,\n",
       "       144, 129,  22, 142,  21, 148,  60, 125,  93,  59, 142,  60, 125,\n",
       "       125, 104, 102,  27, 142,  34,  31, 154,  78,  31, 148,  60,  75,\n",
       "       147,  27,  60,  78,   5, 101, 117,  69,  11, 125,  72,  89, 144,\n",
       "        60,  83,  60,  31,  31,  21,  39, 148,  31,  60, 137, 142,  48,\n",
       "       125,  35,  66, 148, 148,  46, 142, 119,  78, 147,   6,  28,  60,\n",
       "       111, 142,  29,  97,  31, 148,  78, 148, 142,  71, 103, 144, 148,\n",
       "        78, 148,  13, 150,   0,  60,  13,  31,  13, 105, 144,  20,  94,\n",
       "        13, 142,  88,  60,  49, 114,  41,  72,  60,  21,  21, 133,  21,\n",
       "        60,  60,  78, 148,  74,  31,  70,  92, 142, 144,  21,  50, 148,\n",
       "       115,  85,  13, 110, 142,  60,  21, 148,  12, 148,  56,  31,  99,\n",
       "        13, 124, 107,  73, 148,  60,  47, 155,  25,  24, 118,  27,  60,\n",
       "       148,   3,  19,  90, 145,   0, 144,  80,  60,  40, 155,  60,  31,\n",
       "        78,  21,  82,  78,  60, 142,  60, 155,  60,   4, 113, 142,  60,\n",
       "        86,  23, 108, 142,  60,  31, 142, 146,   0, 148, 122,  57,  95,\n",
       "       113, 125,  60, 104, 142,  18, 148,  64, 127, 148, 148, 125,  60,\n",
       "       148, 148,  75, 153, 144,  81, 144,  60,  60, 144,  53,  78,  60,\n",
       "       148,  31,   7, 100,  68, 144, 139,  38,  61, 131, 142,  63,  13,\n",
       "       132, 148, 142,  17, 130, 144,  60,  78,  60,  60,   2, 149, 148,\n",
       "        67, 142, 141, 148,  54, 125, 148, 125,  45,  26,   9,  33,  96,\n",
       "       125, 142,  36, 148,  27, 148, 148,  12, 144,  42,  84,  31, 147])"
      ]
     },
     "execution_count": 278,
     "metadata": {},
     "output_type": "execute_result"
    }
   ],
   "source": [
    "le.transform(X)"
   ]
  },
  {
   "cell_type": "code",
   "execution_count": 283,
   "id": "46414ea0",
   "metadata": {},
   "outputs": [
    {
     "data": {
      "text/plain": [
       "array(['حسنا اجلس هناك من فضلك ضع راسك في هذه في هذا الجهاز'],\n",
       "      dtype=object)"
      ]
     },
     "execution_count": 283,
     "metadata": {},
     "output_type": "execute_result"
    }
   ],
   "source": [
    "le.inverse_transform([82])"
   ]
  },
  {
   "cell_type": "code",
   "execution_count": 285,
   "id": "d37d9a01",
   "metadata": {},
   "outputs": [
    {
     "data": {
      "text/plain": [
       "LabelEncoder()"
      ]
     },
     "execution_count": 285,
     "metadata": {},
     "output_type": "execute_result"
    }
   ],
   "source": [
    "le.fit(y)"
   ]
  },
  {
   "cell_type": "code",
   "execution_count": 286,
   "id": "0aa91dd6",
   "metadata": {},
   "outputs": [],
   "source": [
    "label_encode = le.transform(y)"
   ]
  },
  {
   "cell_type": "code",
   "execution_count": 287,
   "id": "06503013",
   "metadata": {
    "scrolled": true
   },
   "outputs": [
    {
     "data": {
      "text/plain": [
       "array(['Sit-down', 'Sugar', 'bug-pit', 'direction', 'glasses', 'headache',\n",
       "       'ray'], dtype=object)"
      ]
     },
     "execution_count": 287,
     "metadata": {},
     "output_type": "execute_result"
    }
   ],
   "source": [
    "le.classes_"
   ]
  },
  {
   "cell_type": "code",
   "execution_count": 288,
   "id": "b59e7679",
   "metadata": {},
   "outputs": [
    {
     "data": {
      "text/plain": [
       "0      Sit-down\n",
       "1      headache\n",
       "2       bug-pit\n",
       "3      Sit-down\n",
       "4           ray\n",
       "         ...   \n",
       "372    headache\n",
       "373     glasses\n",
       "374    Sit-down\n",
       "375     glasses\n",
       "376       Sugar\n",
       "Name: class, Length: 377, dtype: category\n",
       "Categories (7, object): ['Sit-down', 'Sugar', 'bug-pit', 'direction', 'glasses', 'headache', 'ray']"
      ]
     },
     "execution_count": 288,
     "metadata": {},
     "output_type": "execute_result"
    }
   ],
   "source": [
    "y"
   ]
  },
  {
   "cell_type": "code",
   "execution_count": 289,
   "id": "f8b7547e",
   "metadata": {},
   "outputs": [
    {
     "data": {
      "text/plain": [
       "array([0, 5, 2, 0, 6, 4, 3, 6, 3, 0, 0, 5, 2, 0, 3, 1, 2, 5, 5, 1, 2, 4,\n",
       "       1, 4, 1, 3, 2, 4, 3, 2, 6, 1, 4, 4, 5, 3, 0, 4, 4, 6, 5, 0, 4, 0,\n",
       "       3, 1, 4, 4, 4, 4, 6, 3, 1, 1, 2, 1, 2, 1, 0, 5, 5, 2, 0, 3, 3, 3,\n",
       "       2, 1, 5, 6, 4, 5, 0, 0, 4, 4, 6, 3, 1, 0, 4, 4, 0, 6, 1, 4, 4, 2,\n",
       "       1, 0, 0, 0, 6, 4, 2, 1, 1, 3, 5, 2, 5, 1, 6, 0, 3, 6, 5, 3, 4, 4,\n",
       "       5, 5, 5, 6, 2, 3, 6, 5, 2, 6, 5, 6, 1, 3, 2, 0, 3, 5, 3, 2, 2, 4,\n",
       "       3, 6, 5, 6, 4, 0, 0, 4, 1, 3, 0, 1, 6, 3, 0, 0, 3, 2, 0, 6, 2, 0,\n",
       "       0, 5, 3, 0, 3, 4, 4, 6, 2, 1, 4, 3, 5, 5, 3, 2, 6, 4, 1, 1, 4, 5,\n",
       "       2, 0, 1, 6, 6, 3, 2, 5, 6, 6, 4, 1, 0, 1, 5, 0, 1, 5, 1, 0, 1, 6,\n",
       "       2, 4, 3, 6, 4, 6, 2, 5, 6, 5, 6, 5, 0, 3, 1, 2, 2, 0, 3, 6, 6, 2,\n",
       "       6, 3, 3, 0, 1, 0, 4, 0, 0, 5, 5, 6, 2, 1, 2, 0, 6, 2, 5, 3, 6, 1,\n",
       "       6, 1, 3, 4, 0, 6, 2, 2, 0, 1, 3, 5, 4, 6, 6, 2, 6, 3, 1, 0, 6, 0,\n",
       "       1, 4, 5, 0, 3, 2, 4, 3, 4, 0, 6, 0, 0, 3, 5, 3, 4, 3, 0, 2, 5, 3,\n",
       "       0, 6, 2, 5, 3, 4, 5, 1, 4, 1, 2, 3, 2, 2, 2, 3, 4, 5, 6, 1, 4, 2,\n",
       "       1, 1, 2, 3, 1, 1, 0, 3, 5, 0, 5, 3, 3, 5, 4, 0, 3, 1, 4, 6, 6, 0,\n",
       "       5, 5, 2, 4, 2, 5, 3, 6, 2, 1, 5, 6, 2, 5, 3, 0, 3, 3, 0, 2, 1, 4,\n",
       "       5, 5, 2, 6, 2, 1, 2, 2, 6, 6, 4, 2, 2, 5, 5, 1, 6, 1, 1, 6, 5, 4,\n",
       "       0, 4, 1])"
      ]
     },
     "execution_count": 289,
     "metadata": {},
     "output_type": "execute_result"
    }
   ],
   "source": [
    "le.transform(y)"
   ]
  },
  {
   "cell_type": "code",
   "execution_count": 291,
   "id": "a179b42b",
   "metadata": {},
   "outputs": [
    {
     "data": {
      "text/plain": [
       "array(['Sit-down'], dtype=object)"
      ]
     },
     "execution_count": 291,
     "metadata": {},
     "output_type": "execute_result"
    }
   ],
   "source": [
    "le.inverse_transform([0])"
   ]
  },
  {
   "cell_type": "code",
   "execution_count": 140,
   "id": "68c7cb3c",
   "metadata": {},
   "outputs": [
    {
     "ename": "AttributeError",
     "evalue": "'str' object has no attribute 'shape'",
     "output_type": "error",
     "traceback": [
      "\u001b[1;31m---------------------------------------------------------------------------\u001b[0m",
      "\u001b[1;31mAttributeError\u001b[0m                            Traceback (most recent call last)",
      "Cell \u001b[1;32mIn [140], line 1\u001b[0m\n\u001b[1;32m----> 1\u001b[0m \u001b[38;5;124;43m'\u001b[39;49m\u001b[38;5;124;43mshape\u001b[39;49m\u001b[38;5;124;43m'\u001b[39;49m\u001b[38;5;241;43m.\u001b[39;49m\u001b[43mshape\u001b[49m\n",
      "\u001b[1;31mAttributeError\u001b[0m: 'str' object has no attribute 'shape'"
     ]
    }
   ],
   "source": []
  },
  {
   "cell_type": "code",
   "execution_count": 143,
   "id": "acdab4d5",
   "metadata": {},
   "outputs": [
    {
     "name": "stdout",
     "output_type": "stream",
     "text": [
      "Label Encoded [0 5 2 0 6 4 3 6 3 0 0 5 2 0 3 1 2 5 5 1 2 4 1 4 1 3 2 4 3 2 6 1 4 4 5 3 0\n",
      " 4 4 6 5 0 4 0 3 1 4 4 4 4 6 3 1 1 2 1 2 1 0 5 5 2 0 3 3 3 2 1 5 6 4 5 0 0\n",
      " 4 4 6 3 1 0 4 4 0 6 1 4 4 2 1 0 0 0 6 4 2 1 1 3 5 2 5 1 6 0 3 6 5 3 4 4 5\n",
      " 5 5 6 2 3 6 5 2 6 5 6 1 3 2 0 3 5 3 2 2 4 3 6 5 6 4 0 0 4 1 3 0 1 6 3 0 0\n",
      " 3 2 0 6 2 0 0 5 3 0 3 4 4 6 2 1 4 3 5 5 3 2 6 4 1 1 4 5 2 0 1 6 6 3 2 5 6\n",
      " 6 4 1 0 1 5 0 1 5 1 0 1 6 2 4 3 6 4 6 2 5 6 5 6 5 0 3 1 2 2 0 3 6 6 2 6 3\n",
      " 3 0 1 0 4 0 0 5 5 6 2 1 2 0 6 2 5 3 6 1 6 1 3 4 0 6 2 2 0 1 3 5 4 6 6 2 6\n",
      " 3 1 0 6 0 1 4 5 0 3 2 4 3 4 0 6 0 0 3 5 3 4 3 0 2 5 3 0 6 2 5 3 4 5 1 4 1\n",
      " 2 3 2 2 2 3 4 5 6 1 4 2 1 1 2 3 1 1 0 3 5 0 5 3 3 5 4 0 3 1 4 6 6 0 5 5 2\n",
      " 4 2 5 3 6 2 1 5 6 2 5 3 0 3 3 0 2 1 4 5 5 2 6 2 1 2 2 6 6 4 2 2 5 5 1 6 1\n",
      " 1 6 5 4 0 4 1]\n"
     ]
    }
   ],
   "source": [
    "print('Label Encoded',label_encode)"
   ]
  },
  {
   "cell_type": "code",
   "execution_count": 146,
   "id": "e4959a35",
   "metadata": {},
   "outputs": [
    {
     "data": {
      "text/plain": [
       "array([1])"
      ]
     },
     "execution_count": 146,
     "metadata": {},
     "output_type": "execute_result"
    }
   ],
   "source": [
    "le = preprocessing.LabelEncoder()\n",
    "le.fit([1, 2, 2, 6])\n",
    "\n",
    "le.classes_\n",
    "\n",
    "le.transform([1, 1, 2, 6])\n",
    "\n",
    "le.inverse_transform([0])"
   ]
  },
  {
   "cell_type": "markdown",
   "id": "21fe8ee6",
   "metadata": {},
   "source": [
    "**Split the data for train and test**"
   ]
  },
  {
   "cell_type": "code",
   "execution_count": 106,
   "id": "803c761a",
   "metadata": {},
   "outputs": [],
   "source": [
    "from sklearn.model_selection import train_test_split# Splitting train : test to 70 : 30 ratio"
   ]
  },
  {
   "cell_type": "code",
   "execution_count": 107,
   "id": "bcfce3b6",
   "metadata": {},
   "outputs": [],
   "source": [
    "X_train, X_test, y_train, y_test = train_test_split(text_encoded,label_encode,test_size=0.2)"
   ]
  },
  {
   "cell_type": "markdown",
   "id": "4bad146f",
   "metadata": {},
   "source": [
    "# the Model"
   ]
  },
  {
   "cell_type": "markdown",
   "id": "0270846f",
   "metadata": {},
   "source": [
    "## KNN Algorithm"
   ]
  },
  {
   "cell_type": "code",
   "execution_count": 78,
   "id": "cf279856",
   "metadata": {},
   "outputs": [],
   "source": [
    "from sklearn.neighbors import KNeighborsClassifier# Applying k = 3, default Minkowski distance metrics"
   ]
  },
  {
   "cell_type": "code",
   "execution_count": 79,
   "id": "dbeb915c",
   "metadata": {},
   "outputs": [],
   "source": [
    "model = KNeighborsClassifier(n_neighbors=5,algorithm='brute',p=1)# Training the classifier"
   ]
  },
  {
   "cell_type": "code",
   "execution_count": 108,
   "id": "65c947a6",
   "metadata": {
    "scrolled": true
   },
   "outputs": [
    {
     "data": {
      "text/plain": [
       "KNeighborsClassifier(algorithm='brute', p=1)"
      ]
     },
     "execution_count": 108,
     "metadata": {},
     "output_type": "execute_result"
    }
   ],
   "source": [
    "model.fit(X_train,y_train)"
   ]
  },
  {
   "cell_type": "code",
   "execution_count": 109,
   "id": "1fa9ba41",
   "metadata": {},
   "outputs": [
    {
     "data": {
      "text/plain": [
       "0.881578947368421"
      ]
     },
     "execution_count": 109,
     "metadata": {},
     "output_type": "execute_result"
    }
   ],
   "source": [
    "model.score(X_test,y_test)"
   ]
  },
  {
   "cell_type": "markdown",
   "id": "24e961cc",
   "metadata": {},
   "source": [
    "## Evalueate the Model `knn` "
   ]
  },
  {
   "cell_type": "markdown",
   "id": "c5b96678",
   "metadata": {},
   "source": [
    "**we will use `Mean absolute error` for evaluate the model**"
   ]
  },
  {
   "cell_type": "code",
   "execution_count": 111,
   "id": "228519be",
   "metadata": {},
   "outputs": [],
   "source": [
    "from sklearn.metrics import mean_absolute_error"
   ]
  },
  {
   "cell_type": "code",
   "execution_count": 112,
   "id": "e95da6a9",
   "metadata": {},
   "outputs": [
    {
     "data": {
      "text/plain": [
       "(0.292358803986711, 0.21052631578947367)"
      ]
     },
     "execution_count": 112,
     "metadata": {},
     "output_type": "execute_result"
    }
   ],
   "source": [
    "mean_absolute_error(y_train,model.predict(X_train)) ,mean_absolute_error(y_test,model.predict(X_test))"
   ]
  },
  {
   "cell_type": "markdown",
   "id": "1c6b9503",
   "metadata": {},
   "source": [
    "***Oh! its look our model is note good*** berhapse `MAE >2.9 or =3 is not good`\\\n",
    "lets  <b>`Imporve our model`</b>"
   ]
  },
  {
   "cell_type": "markdown",
   "id": "25f8bc64",
   "metadata": {},
   "source": [
    "# Imporve the `KNN Model`"
   ]
  },
  {
   "cell_type": "code",
   "execution_count": 284,
   "id": "37dad3a0",
   "metadata": {},
   "outputs": [
    {
     "data": {
      "text/plain": [
       "array([0])"
      ]
     },
     "execution_count": 284,
     "metadata": {},
     "output_type": "execute_result"
    }
   ],
   "source": [
    "model.predict([[82]])"
   ]
  },
  {
   "cell_type": "code",
   "execution_count": 306,
   "id": "f37c0175",
   "metadata": {},
   "outputs": [
    {
     "data": {
      "text/plain": [
       "0           حسنا اجلس هنا من فضلك وضع راسك في هذا الجهاز\n",
       "1                                        هل تشعر بالصداع\n",
       "2      هل اصابك شيء فيها مثلثات حشره او ضربتها او نحو...\n",
       "3           حسنا اجلس هنا من فضلك وضع راسك في هذا الجهاز\n",
       "4              اذهب الى الاشعه و اعمل صوره اشعه من العين\n",
       "                             ...                        \n",
       "372                                        هل تشعر بصداع\n",
       "373                                    اعتدى هذه النظاره\n",
       "374      حسنا اجلسوا انا من فضلك وضعه راسك في هذا الجهاز\n",
       "375                                    ارتدي هذه النظاره\n",
       "376                         هل لديك مرض السكري او اي مرض\n",
       "Name: text, Length: 377, dtype: category\n",
       "Categories (156, object): ['ابتدي هذه النظاره', 'اتعبتني هذه النظاره', 'اجلس هنا من فضلك وضع الماسك في هذا الجهاز', 'اجلس هنا من فضلك وضع راسك في هذا', ..., 'يا اي تيجي هذه العلامه وهذه وهذه وهذه', 'يا اين تتجه هذه العلامه وهذه وهذه وهذه', 'ياشوق حسن اجلس هنا من فضلك وضع السكر في هذه ه..., 'يرتدي هذه النظاره']"
      ]
     },
     "execution_count": 306,
     "metadata": {},
     "output_type": "execute_result"
    }
   ],
   "source": [
    "df['text']"
   ]
  },
  {
   "cell_type": "code",
   "execution_count": null,
   "id": "4a1969d6",
   "metadata": {},
   "outputs": [],
   "source": []
  }
 ],
 "metadata": {
  "kernelspec": {
   "display_name": "Python 3 (ipykernel)",
   "language": "python",
   "name": "python3"
  },
  "language_info": {
   "codemirror_mode": {
    "name": "ipython",
    "version": 3
   },
   "file_extension": ".py",
   "mimetype": "text/x-python",
   "name": "python",
   "nbconvert_exporter": "python",
   "pygments_lexer": "ipython3",
   "version": "3.10.8"
  }
 },
 "nbformat": 4,
 "nbformat_minor": 5
}
